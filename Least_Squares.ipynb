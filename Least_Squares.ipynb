{
  "nbformat": 4,
  "nbformat_minor": 0,
  "metadata": {
    "colab": {
      "name": "Least Squares.ipynb",
      "provenance": [],
      "collapsed_sections": [],
      "toc_visible": true
    },
    "kernelspec": {
      "name": "python3",
      "display_name": "Python 3"
    }
  },
  "cells": [
    {
      "cell_type": "code",
      "metadata": {
        "id": "a8qIQZNx1eAt",
        "colab_type": "code",
        "colab": {}
      },
      "source": [
        "#Import the libraries\n",
        "import numpy as np\n",
        "import pandas as pd\n",
        "\n"
      ],
      "execution_count": 0,
      "outputs": []
    },
    {
      "cell_type": "markdown",
      "metadata": {
        "id": "YkNHrWZ9LCvI",
        "colab_type": "text"
      },
      "source": [
        "Dataset from : https://www.kaggle.com/grubenm/austin-weather\n",
        "Project refrences: https://www.youtube.com/watch?time_continue=446&v=Qa_FI92_qo8&feature=emb_title\n"
      ]
    },
    {
      "cell_type": "code",
      "metadata": {
        "id": "hPwp6U0u1o1Z",
        "colab_type": "code",
        "outputId": "da5792c1-823c-41bc-e13d-c5e1ea984b7c",
        "colab": {
          "base_uri": "https://localhost:8080/",
          "height": 301
        }
      },
      "source": [
        "#Read the csv file\n",
        "data = pd.read_csv(\"austin_weather.csv\")\n",
        "#replace \"-\" values with 0\n",
        "data = data.replace('-', 0)\n",
        "data.head()\n"
      ],
      "execution_count": 0,
      "outputs": [
        {
          "output_type": "execute_result",
          "data": {
            "text/html": [
              "<div>\n",
              "<style scoped>\n",
              "    .dataframe tbody tr th:only-of-type {\n",
              "        vertical-align: middle;\n",
              "    }\n",
              "\n",
              "    .dataframe tbody tr th {\n",
              "        vertical-align: top;\n",
              "    }\n",
              "\n",
              "    .dataframe thead th {\n",
              "        text-align: right;\n",
              "    }\n",
              "</style>\n",
              "<table border=\"1\" class=\"dataframe\">\n",
              "  <thead>\n",
              "    <tr style=\"text-align: right;\">\n",
              "      <th></th>\n",
              "      <th>Date</th>\n",
              "      <th>TempHighF</th>\n",
              "      <th>TempAvgF</th>\n",
              "      <th>TempLowF</th>\n",
              "      <th>DewPointHighF</th>\n",
              "      <th>DewPointAvgF</th>\n",
              "      <th>DewPointLowF</th>\n",
              "      <th>HumidityHighPercent</th>\n",
              "      <th>HumidityAvgPercent</th>\n",
              "      <th>HumidityLowPercent</th>\n",
              "      <th>SeaLevelPressureHighInches</th>\n",
              "      <th>SeaLevelPressureAvgInches</th>\n",
              "      <th>SeaLevelPressureLowInches</th>\n",
              "      <th>VisibilityHighMiles</th>\n",
              "      <th>VisibilityAvgMiles</th>\n",
              "      <th>VisibilityLowMiles</th>\n",
              "      <th>WindHighMPH</th>\n",
              "      <th>WindAvgMPH</th>\n",
              "      <th>WindGustMPH</th>\n",
              "      <th>PrecipitationSumInches</th>\n",
              "      <th>Events</th>\n",
              "    </tr>\n",
              "  </thead>\n",
              "  <tbody>\n",
              "    <tr>\n",
              "      <th>0</th>\n",
              "      <td>2013-12-21</td>\n",
              "      <td>74</td>\n",
              "      <td>60</td>\n",
              "      <td>45</td>\n",
              "      <td>67</td>\n",
              "      <td>49</td>\n",
              "      <td>43</td>\n",
              "      <td>93</td>\n",
              "      <td>75</td>\n",
              "      <td>57</td>\n",
              "      <td>29.86</td>\n",
              "      <td>29.68</td>\n",
              "      <td>29.59</td>\n",
              "      <td>10</td>\n",
              "      <td>7</td>\n",
              "      <td>2</td>\n",
              "      <td>20</td>\n",
              "      <td>4</td>\n",
              "      <td>31</td>\n",
              "      <td>0.46</td>\n",
              "      <td>Rain , Thunderstorm</td>\n",
              "    </tr>\n",
              "    <tr>\n",
              "      <th>1</th>\n",
              "      <td>2013-12-22</td>\n",
              "      <td>56</td>\n",
              "      <td>48</td>\n",
              "      <td>39</td>\n",
              "      <td>43</td>\n",
              "      <td>36</td>\n",
              "      <td>28</td>\n",
              "      <td>93</td>\n",
              "      <td>68</td>\n",
              "      <td>43</td>\n",
              "      <td>30.41</td>\n",
              "      <td>30.13</td>\n",
              "      <td>29.87</td>\n",
              "      <td>10</td>\n",
              "      <td>10</td>\n",
              "      <td>5</td>\n",
              "      <td>16</td>\n",
              "      <td>6</td>\n",
              "      <td>25</td>\n",
              "      <td>0</td>\n",
              "      <td></td>\n",
              "    </tr>\n",
              "    <tr>\n",
              "      <th>2</th>\n",
              "      <td>2013-12-23</td>\n",
              "      <td>58</td>\n",
              "      <td>45</td>\n",
              "      <td>32</td>\n",
              "      <td>31</td>\n",
              "      <td>27</td>\n",
              "      <td>23</td>\n",
              "      <td>76</td>\n",
              "      <td>52</td>\n",
              "      <td>27</td>\n",
              "      <td>30.56</td>\n",
              "      <td>30.49</td>\n",
              "      <td>30.41</td>\n",
              "      <td>10</td>\n",
              "      <td>10</td>\n",
              "      <td>10</td>\n",
              "      <td>8</td>\n",
              "      <td>3</td>\n",
              "      <td>12</td>\n",
              "      <td>0</td>\n",
              "      <td></td>\n",
              "    </tr>\n",
              "    <tr>\n",
              "      <th>3</th>\n",
              "      <td>2013-12-24</td>\n",
              "      <td>61</td>\n",
              "      <td>46</td>\n",
              "      <td>31</td>\n",
              "      <td>36</td>\n",
              "      <td>28</td>\n",
              "      <td>21</td>\n",
              "      <td>89</td>\n",
              "      <td>56</td>\n",
              "      <td>22</td>\n",
              "      <td>30.56</td>\n",
              "      <td>30.45</td>\n",
              "      <td>30.3</td>\n",
              "      <td>10</td>\n",
              "      <td>10</td>\n",
              "      <td>7</td>\n",
              "      <td>12</td>\n",
              "      <td>4</td>\n",
              "      <td>20</td>\n",
              "      <td>0</td>\n",
              "      <td></td>\n",
              "    </tr>\n",
              "    <tr>\n",
              "      <th>4</th>\n",
              "      <td>2013-12-25</td>\n",
              "      <td>58</td>\n",
              "      <td>50</td>\n",
              "      <td>41</td>\n",
              "      <td>44</td>\n",
              "      <td>40</td>\n",
              "      <td>36</td>\n",
              "      <td>86</td>\n",
              "      <td>71</td>\n",
              "      <td>56</td>\n",
              "      <td>30.41</td>\n",
              "      <td>30.33</td>\n",
              "      <td>30.27</td>\n",
              "      <td>10</td>\n",
              "      <td>10</td>\n",
              "      <td>7</td>\n",
              "      <td>10</td>\n",
              "      <td>2</td>\n",
              "      <td>16</td>\n",
              "      <td>T</td>\n",
              "      <td></td>\n",
              "    </tr>\n",
              "  </tbody>\n",
              "</table>\n",
              "</div>"
            ],
            "text/plain": [
              "         Date  TempHighF  ...  PrecipitationSumInches               Events\n",
              "0  2013-12-21         74  ...                    0.46  Rain , Thunderstorm\n",
              "1  2013-12-22         56  ...                       0                     \n",
              "2  2013-12-23         58  ...                       0                     \n",
              "3  2013-12-24         61  ...                       0                     \n",
              "4  2013-12-25         58  ...                       T                     \n",
              "\n",
              "[5 rows x 21 columns]"
            ]
          },
          "metadata": {
            "tags": []
          },
          "execution_count": 2
        }
      ]
    },
    {
      "cell_type": "markdown",
      "metadata": {
        "id": "mSYHiVJt2YGq",
        "colab_type": "text"
      },
      "source": [
        "The goal of this project is to perform least square linear regression using matrices.\n",
        "\n",
        "The least square regression line is defined as:\n",
        "$f(x) = b + mx$\n",
        "where $b$ is the y-intercept and $m$ is the slope of the line.\n",
        "\n",
        "The equation minimizes the sum of squared errors, which are the errors in using the regression function $f(x)$ to estimate true $y$ values.\n",
        "\n",
        "# Matrix Equation:\n",
        "$Y = XA + E.$\n",
        "\n",
        "> Solve this equation for A\n",
        "\n",
        "\n",
        "\n",
        "# Solution to least square regression equation:\n",
        "$A = (X^T X)^-1  X^T Y$\n",
        "\n",
        "# The sum of squared errors is:\n",
        "$SSE = E^T E$\n",
        "\n",
        "\n"
      ]
    },
    {
      "cell_type": "code",
      "metadata": {
        "id": "j-zq9X3l6bXW",
        "colab_type": "code",
        "colab": {}
      },
      "source": [
        "X = data.iloc[:,[5]].values\n",
        "\n",
        "Y = data.iloc[:,[2]].values\n",
        "\n"
      ],
      "execution_count": 0,
      "outputs": []
    },
    {
      "cell_type": "markdown",
      "metadata": {
        "id": "fGfPIzR6_0GU",
        "colab_type": "text"
      },
      "source": [
        "Y is the matrix $Y$ which containts the given $y$ values. X which is matrix $X$ has two columns: A column of 1's and a column of given $x$ values. \n",
        "Matrix $A$ contains the y-intercept and slope. Matrix $E$ contains all of the errors. \n",
        "The matrix $Y$ contains the average temperature in F whereas the matrix X contains the Average dew points in F for the corresponding temperature. The prediction of average temperature will be based on the dew point. "
      ]
    },
    {
      "cell_type": "code",
      "metadata": {
        "id": "Xyq-PpNYIbVu",
        "colab_type": "code",
        "colab": {}
      },
      "source": [
        "#converting X from string to integers\n",
        "X = X.astype(str).astype(int)"
      ],
      "execution_count": 0,
      "outputs": []
    },
    {
      "cell_type": "code",
      "metadata": {
        "id": "aG3gutyR6x21",
        "colab_type": "code",
        "colab": {}
      },
      "source": [
        "#Adding a column of all 1's in Matrix X \n",
        "Z = np.ones((1319,1), dtype=int)\n",
        "Z.shape\n",
        "XX = np.append(Z,X, axis = 1)\n",
        "#XX.shape\n"
      ],
      "execution_count": 0,
      "outputs": []
    },
    {
      "cell_type": "markdown",
      "metadata": {
        "id": "AN0drOAY7GNe",
        "colab_type": "text"
      },
      "source": [
        "Using $Y = XA + E.$ we need to find $X$ using $A = (X^T X)^-1  X^T Y$\n",
        "\n"
      ]
    },
    {
      "cell_type": "markdown",
      "metadata": {
        "id": "-sa9aLcPC1p9",
        "colab_type": "text"
      },
      "source": [
        "Step 1:\n",
        "$(X^T X)$"
      ]
    },
    {
      "cell_type": "code",
      "metadata": {
        "id": "6P4QNGx_6y7m",
        "colab_type": "code",
        "colab": {}
      },
      "source": [
        "#Step 1\n",
        "# (X^T) X\n",
        "# OR X transpose * X\n",
        "XT = XX.T\n",
        "XT\n",
        "product_xTx = np.matmul(XT, XX)\n",
        "#print (data.dtypes)"
      ],
      "execution_count": 0,
      "outputs": []
    },
    {
      "cell_type": "markdown",
      "metadata": {
        "id": "GQ9hzGxFDJks",
        "colab_type": "text"
      },
      "source": [
        "Step 2: $(X^TX)^-1$"
      ]
    },
    {
      "cell_type": "code",
      "metadata": {
        "id": "JWy6bUb27rBa",
        "colab_type": "code",
        "colab": {}
      },
      "source": [
        "#Step 2\n",
        "#Inverse of (xTx)\n",
        "inverse = np.linalg.inv(product_xTx)\n"
      ],
      "execution_count": 0,
      "outputs": []
    },
    {
      "cell_type": "markdown",
      "metadata": {
        "id": "mnHbjvnTDv80",
        "colab_type": "text"
      },
      "source": [
        "Step 3: $X^T Y$"
      ]
    },
    {
      "cell_type": "code",
      "metadata": {
        "id": "CDzTjjtZHKnU",
        "colab_type": "code",
        "colab": {}
      },
      "source": [
        "# Step 3\n",
        "# Product of transpose of X and Y \n",
        "xTy = np.matmul(XT, Y)\n",
        "\n"
      ],
      "execution_count": 0,
      "outputs": []
    },
    {
      "cell_type": "markdown",
      "metadata": {
        "id": "oSREDrKXECVe",
        "colab_type": "text"
      },
      "source": [
        "Step 4: $A = (X^T X)^-1  X^T Y$"
      ]
    },
    {
      "cell_type": "code",
      "metadata": {
        "id": "jaHEUvNh4f-R",
        "colab_type": "code",
        "outputId": "ed93d870-d49d-41ea-c6f9-5dc28a6cb223",
        "colab": {
          "base_uri": "https://localhost:8080/",
          "height": 52
        }
      },
      "source": [
        "# Step 4\n",
        "#Product of step 2 and 3\n",
        "A = np.matmul(inverse, xTy)\n",
        "A"
      ],
      "execution_count": 0,
      "outputs": [
        {
          "output_type": "execute_result",
          "data": {
            "text/plain": [
              "array([[27.59248364],\n",
              "       [ 0.76422592]])"
            ]
          },
          "metadata": {
            "tags": []
          },
          "execution_count": 14
        }
      ]
    },
    {
      "cell_type": "code",
      "metadata": {
        "id": "uM3PIZTQ5GNx",
        "colab_type": "code",
        "outputId": "22ff269a-0004-4650-fb20-e7576c4c6475",
        "colab": {
          "base_uri": "https://localhost:8080/",
          "height": 34
        }
      },
      "source": [
        "# 6.89698352e+01 is (b) y-intercept of regression line whereas 2.51322494e-02 is slope of regression line.\n",
        "A[0]"
      ],
      "execution_count": 0,
      "outputs": [
        {
          "output_type": "execute_result",
          "data": {
            "text/plain": [
              "array([27.59248364])"
            ]
          },
          "metadata": {
            "tags": []
          },
          "execution_count": 18
        }
      ]
    },
    {
      "cell_type": "markdown",
      "metadata": {
        "id": "cLzvnLeUEqNu",
        "colab_type": "text"
      },
      "source": [
        "Step 4 gives us 2x1 matrix $A$ where matrix element $A11$ is $b$ and $A21$ is $m$"
      ]
    },
    {
      "cell_type": "markdown",
      "metadata": {
        "id": "glHBPfJFFZFu",
        "colab_type": "text"
      },
      "source": [
        "The step below is to calculate $f(x) = b + mx$\n",
        ">>$f(x) = 27.59 + 0.76 x$"
      ]
    },
    {
      "cell_type": "markdown",
      "metadata": {
        "id": "YDEbufWAGsfg",
        "colab_type": "text"
      },
      "source": [
        "Now to find the Sum of Squared Errors $SSE$ we need to find $f(x)$"
      ]
    },
    {
      "cell_type": "code",
      "metadata": {
        "id": "1jyCe2ql6lS2",
        "colab_type": "code",
        "colab": {}
      },
      "source": [
        "#f(x)\n",
        "fx = A[0] + (A[1]*X)\n",
        "\n"
      ],
      "execution_count": 0,
      "outputs": []
    },
    {
      "cell_type": "markdown",
      "metadata": {
        "id": "VkoO2z-EHBQj",
        "colab_type": "text"
      },
      "source": [
        "The matrix $E$ is the error matrix which is acquired by subtracting $y$ from $f(x)$\n",
        "\n",
        ">> $ e = y - f(x)$"
      ]
    },
    {
      "cell_type": "code",
      "metadata": {
        "id": "BePVrEpL8cgx",
        "colab_type": "code",
        "colab": {}
      },
      "source": [
        "#Matrix E\n",
        "matrix_e = np.subtract(Y, fx)\n",
        "\n"
      ],
      "execution_count": 0,
      "outputs": []
    },
    {
      "cell_type": "markdown",
      "metadata": {
        "id": "R_Emogb6HplH",
        "colab_type": "text"
      },
      "source": [
        "Sum of Squared Errors $SSE = E^TE$"
      ]
    },
    {
      "cell_type": "code",
      "metadata": {
        "id": "P5R0UnoK83QS",
        "colab_type": "code",
        "outputId": "79510b6a-d12e-477d-aae9-200b60ef375b",
        "colab": {
          "base_uri": "https://localhost:8080/",
          "height": 34
        }
      },
      "source": [
        "#SSE \n",
        "ET = matrix_e.T\n",
        "SSE = np.matmul(ET, matrix_e)\n",
        "SSE"
      ],
      "execution_count": 0,
      "outputs": [
        {
          "output_type": "execute_result",
          "data": {
            "text/plain": [
              "array([[77762.73444523]])"
            ]
          },
          "metadata": {
            "tags": []
          },
          "execution_count": 25
        }
      ]
    },
    {
      "cell_type": "code",
      "metadata": {
        "id": "TzOCfo729Okv",
        "colab_type": "code",
        "outputId": "62767b18-c938-435c-e086-e42a9caf8a8a",
        "colab": {
          "base_uri": "https://localhost:8080/",
          "height": 34
        }
      },
      "source": [
        ""
      ],
      "execution_count": 0,
      "outputs": [
        {
          "output_type": "execute_result",
          "data": {
            "text/plain": [
              "36.76319468"
            ]
          },
          "metadata": {
            "tags": []
          },
          "execution_count": 114
        }
      ]
    },
    {
      "cell_type": "markdown",
      "metadata": {
        "id": "10q4tEP9IsGX",
        "colab_type": "text"
      },
      "source": [
        "Using the equation $f(x) = b + mx$ we can predict the average temperature in Austin based on the average dew point. The average weather in Austin for 75F dew point is shown below:"
      ]
    },
    {
      "cell_type": "code",
      "metadata": {
        "id": "XPSob5CvBp2A",
        "colab_type": "code",
        "outputId": "7d4b4c23-00bf-43ef-8a68-924759fed6be",
        "colab": {
          "base_uri": "https://localhost:8080/",
          "height": 34
        }
      },
      "source": [
        "dew_point = 75\n",
        "prediction = A[0] + (A[1] * dew_point)\n",
        "prediction = prediction.astype(int)\n",
        "print(\"The average temperature in Austin for\", dew_point, \"dew point is: \", prediction, \"F\")"
      ],
      "execution_count": 0,
      "outputs": [
        {
          "output_type": "stream",
          "text": [
            "The average temperature in Austin for 75 dew point is:  [84] F\n"
          ],
          "name": "stdout"
        }
      ]
    }
  ]
}